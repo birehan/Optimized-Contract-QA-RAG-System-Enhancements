{
 "cells": [
  {
   "cell_type": "code",
   "execution_count": 1,
   "metadata": {},
   "outputs": [],
   "source": [
    "import os\n",
    "import sys\n",
    "sys.path.append(os.path.abspath(os.path.join('../scripts')))"
   ]
  },
  {
   "cell_type": "code",
   "execution_count": 2,
   "metadata": {},
   "outputs": [],
   "source": [
    "from embedding import EmbeddingFactory, EmbeddingType"
   ]
  },
  {
   "cell_type": "code",
   "execution_count": 12,
   "metadata": {},
   "outputs": [
    {
     "data": {
      "text/plain": [
       "{'items': [{'key': 'SENTENCE_TRANSFORMER_EMBEDDING',\n",
       "   'value': 'sentence_transformers'},\n",
       "  {'key': 'OPENAI_EMBEDDING', 'value': 'openai_embedding_function'},\n",
       "  {'key': 'TEXT2VEC_EMBEDDING', 'value': 'text_2_vec_embedding'}],\n",
       " 'name': 'embedding',\n",
       " 'label': 'Embedding Models'}"
      ]
     },
     "execution_count": 12,
     "metadata": {},
     "output_type": "execute_result"
    }
   ],
   "source": [
    "enum_types = [enum_type.name for enum_type in EmbeddingType]\n",
    "enum_types\n",
    "{\n",
    "            \"items\": [{\"key\": enum_type.name, \"value\":enum_type.value } for enum_type in EmbeddingType],\n",
    "            \"name\": \"embedding\",\n",
    "            \"label\": \"Embedding Models\"\n",
    "        }"
   ]
  },
  {
   "cell_type": "code",
   "execution_count": 10,
   "metadata": {},
   "outputs": [
    {
     "data": {
      "text/plain": [
       "'sentence_transformers'"
      ]
     },
     "execution_count": 10,
     "metadata": {},
     "output_type": "execute_result"
    }
   ],
   "source": [
    "EmbeddingType.SENTENCE_TRANSFORMER_EMBEDDING.value"
   ]
  },
  {
   "cell_type": "code",
   "execution_count": 4,
   "metadata": {},
   "outputs": [],
   "source": [
    "embed = EmbeddingFactory()"
   ]
  },
  {
   "cell_type": "code",
   "execution_count": 2,
   "metadata": {},
   "outputs": [
    {
     "ename": "NameError",
     "evalue": "name 'embed' is not defined",
     "output_type": "error",
     "traceback": [
      "\u001b[0;31m---------------------------------------------------------------------------\u001b[0m",
      "\u001b[0;31mNameError\u001b[0m                                 Traceback (most recent call last)",
      "Cell \u001b[0;32mIn[2], line 1\u001b[0m\n\u001b[0;32m----> 1\u001b[0m embeder \u001b[38;5;241m=\u001b[39m \u001b[43membed\u001b[49m\u001b[38;5;241m.\u001b[39mcreate_embedding(EmbeddingType\u001b[38;5;241m.\u001b[39mTEXT2VEC_EMBEDDING)\n",
      "\u001b[0;31mNameError\u001b[0m: name 'embed' is not defined"
     ]
    }
   ],
   "source": [
    "embeder = embed.create_embedding(EmbeddingType.TEXT2VEC_EMBEDDING)"
   ]
  },
  {
   "cell_type": "code",
   "execution_count": 6,
   "metadata": {},
   "outputs": [
    {
     "data": {
      "text/plain": [
       "<chromadb.utils.embedding_functions.SentenceTransformerEmbeddingFunction at 0x7fcd6ec2f190>"
      ]
     },
     "execution_count": 6,
     "metadata": {},
     "output_type": "execute_result"
    }
   ],
   "source": [
    "embeder"
   ]
  },
  {
   "cell_type": "code",
   "execution_count": 2,
   "metadata": {},
   "outputs": [],
   "source": [
    "from memory import MemoryType, MemoryFactory\n",
    "m = MemoryFactory().create_memory(MemoryType.CONVERSATION_KNOWLEDGE_GRAPH)"
   ]
  }
 ],
 "metadata": {
  "kernelspec": {
   "display_name": "week10",
   "language": "python",
   "name": "python3"
  },
  "language_info": {
   "codemirror_mode": {
    "name": "ipython",
    "version": 3
   },
   "file_extension": ".py",
   "mimetype": "text/x-python",
   "name": "python",
   "nbconvert_exporter": "python",
   "pygments_lexer": "ipython3",
   "version": "3.8.2"
  }
 },
 "nbformat": 4,
 "nbformat_minor": 2
}
