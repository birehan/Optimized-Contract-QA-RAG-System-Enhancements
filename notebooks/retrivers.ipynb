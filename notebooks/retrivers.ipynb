{
 "cells": [
  {
   "cell_type": "code",
   "execution_count": 3,
   "metadata": {},
   "outputs": [],
   "source": [
    "from langchain_community.document_loaders import TextLoader\n",
    "\n",
    "loader = TextLoader(\"../data/Evaluation Sets/Robinson Advisory.txt\")\n"
   ]
  },
  {
   "cell_type": "code",
   "execution_count": 4,
   "metadata": {},
   "outputs": [
    {
     "name": "stderr",
     "output_type": "stream",
     "text": [
      "Created a chunk of size 1552, which is longer than the specified 1000\n",
      "Created a chunk of size 1069, which is longer than the specified 1000\n",
      "Created a chunk of size 2065, which is longer than the specified 1000\n",
      "Created a chunk of size 1328, which is longer than the specified 1000\n",
      "Created a chunk of size 1174, which is longer than the specified 1000\n"
     ]
    }
   ],
   "source": [
    "from langchain.text_splitter import CharacterTextSplitter\n",
    "from langchain_openai import OpenAIEmbeddings\n",
    "from langchain_community.vectorstores import Chroma\n",
    "\n",
    "documents = loader.load()\n",
    "text_splitter = CharacterTextSplitter(chunk_size=1000, chunk_overlap=0)\n",
    "texts = text_splitter.split_documents(documents)\n",
    "embeddings = OpenAIEmbeddings()\n",
    "db = Chroma.from_documents(texts, embeddings)"
   ]
  },
  {
   "cell_type": "code",
   "execution_count": 5,
   "metadata": {},
   "outputs": [],
   "source": [
    "retriever = db.as_retriever()"
   ]
  },
  {
   "cell_type": "code",
   "execution_count": 11,
   "metadata": {},
   "outputs": [],
   "source": [
    "ids = retriever.add_documents(texts)"
   ]
  },
  {
   "cell_type": "code",
   "execution_count": 12,
   "metadata": {},
   "outputs": [
    {
     "data": {
      "text/plain": [
       "['2e2c8996-d23b-11ee-ad2e-40ec99d4a97c',\n",
       " '2e2c8bf8-d23b-11ee-ad2e-40ec99d4a97c',\n",
       " '2e2c8d2e-d23b-11ee-ad2e-40ec99d4a97c',\n",
       " '2e2c8e3c-d23b-11ee-ad2e-40ec99d4a97c',\n",
       " '2e2c8f4a-d23b-11ee-ad2e-40ec99d4a97c',\n",
       " '2e2c903a-d23b-11ee-ad2e-40ec99d4a97c',\n",
       " '2e2c9120-d23b-11ee-ad2e-40ec99d4a97c',\n",
       " '2e2c91fc-d23b-11ee-ad2e-40ec99d4a97c',\n",
       " '2e2c92ce-d23b-11ee-ad2e-40ec99d4a97c',\n",
       " '2e2c9544-d23b-11ee-ad2e-40ec99d4a97c',\n",
       " '2e2c9670-d23b-11ee-ad2e-40ec99d4a97c',\n",
       " '2e2c974c-d23b-11ee-ad2e-40ec99d4a97c',\n",
       " '2e2c981e-d23b-11ee-ad2e-40ec99d4a97c',\n",
       " '2e2c9940-d23b-11ee-ad2e-40ec99d4a97c',\n",
       " '2e2c9a26-d23b-11ee-ad2e-40ec99d4a97c']"
      ]
     },
     "execution_count": 12,
     "metadata": {},
     "output_type": "execute_result"
    }
   ],
   "source": [
    "ids"
   ]
  }
 ],
 "metadata": {
  "kernelspec": {
   "display_name": "week10",
   "language": "python",
   "name": "python3"
  },
  "language_info": {
   "codemirror_mode": {
    "name": "ipython",
    "version": 3
   },
   "file_extension": ".py",
   "mimetype": "text/x-python",
   "name": "python",
   "nbconvert_exporter": "python",
   "pygments_lexer": "ipython3",
   "version": "3.8.2"
  }
 },
 "nbformat": 4,
 "nbformat_minor": 2
}
