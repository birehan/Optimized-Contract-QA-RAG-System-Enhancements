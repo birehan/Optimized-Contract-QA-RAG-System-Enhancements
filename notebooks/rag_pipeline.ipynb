{
 "cells": [
  {
   "cell_type": "markdown",
   "metadata": {},
   "source": [
    "## RAG Pipeline"
   ]
  },
  {
   "cell_type": "markdown",
   "metadata": {},
   "source": [
    "### Import Packages"
   ]
  },
  {
   "cell_type": "code",
   "execution_count": 1,
   "metadata": {},
   "outputs": [],
   "source": [
    "import os\n",
    "import sys\n",
    "sys.path.append(os.path.abspath(os.path.join('../scripts')))"
   ]
  },
  {
   "cell_type": "code",
   "execution_count": 2,
   "metadata": {},
   "outputs": [],
   "source": [
    "from rag_pipeline import RagPipeline"
   ]
  },
  {
   "cell_type": "code",
   "execution_count": 3,
   "metadata": {},
   "outputs": [
    {
     "name": "stderr",
     "output_type": "stream",
     "text": [
      "2024-02-23 17:58:03,758:logger:ChromaDB vectorstore created successfully.\n",
      "2024-02-23 17:58:03,759:logger:vectorstore_backend_retriver created successfully.\n",
      "2024-02-23 17:58:03,777:logger:langchain with rag pipeline created successfully.\n"
     ]
    }
   ],
   "source": [
    "rag_chain = RagPipeline()"
   ]
  },
  {
   "cell_type": "code",
   "execution_count": 4,
   "metadata": {},
   "outputs": [
    {
     "name": "stderr",
     "output_type": "stream",
     "text": [
      "/home/babi/miniconda3/envs/week10/lib/python3.8/site-packages/langchain_openai/embeddings/base.py:329: PydanticDeprecatedSince20: The `dict` method is deprecated; use `model_dump` instead. Deprecated in Pydantic V2.0 to be removed in V3.0. See Pydantic V2 Migration Guide at https://errors.pydantic.dev/2.5/migration/\n",
      "  response = response.dict()\n",
      "/home/babi/miniconda3/envs/week10/lib/python3.8/site-packages/pydantic/main.py:979: PydanticDeprecatedSince20: The `dict` method is deprecated; use `model_dump` instead. Deprecated in Pydantic V2.0 to be removed in V3.0. See Pydantic V2 Migration Guide at https://errors.pydantic.dev/2.5/migration/\n",
      "  warnings.warn('The `dict` method is deprecated; use `model_dump` instead.', DeprecationWarning)\n",
      "2024-02-23 17:58:22,849:logger:Data source added to the system successfully\n"
     ]
    }
   ],
   "source": [
    "rag_chain.add_datasource(\"../data/Evaluation Sets/Raptor Contract.docx\")"
   ]
  },
  {
   "cell_type": "code",
   "execution_count": 5,
   "metadata": {},
   "outputs": [
    {
     "name": "stderr",
     "output_type": "stream",
     "text": [
      "/home/babi/miniconda3/envs/week10/lib/python3.8/site-packages/langchain_openai/embeddings/base.py:329: PydanticDeprecatedSince20: The `dict` method is deprecated; use `model_dump` instead. Deprecated in Pydantic V2.0 to be removed in V3.0. See Pydantic V2 Migration Guide at https://errors.pydantic.dev/2.5/migration/\n",
      "  response = response.dict()\n",
      "/home/babi/miniconda3/envs/week10/lib/python3.8/site-packages/pydantic/main.py:979: PydanticDeprecatedSince20: The `dict` method is deprecated; use `model_dump` instead. Deprecated in Pydantic V2.0 to be removed in V3.0. See Pydantic V2 Migration Guide at https://errors.pydantic.dev/2.5/migration/\n",
      "  warnings.warn('The `dict` method is deprecated; use `model_dump` instead.', DeprecationWarning)\n",
      "/home/babi/miniconda3/envs/week10/lib/python3.8/site-packages/langchain_openai/chat_models/base.py:468: PydanticDeprecatedSince20: The `dict` method is deprecated; use `model_dump` instead. Deprecated in Pydantic V2.0 to be removed in V3.0. See Pydantic V2 Migration Guide at https://errors.pydantic.dev/2.5/migration/\n",
      "  response = response.dict()\n",
      "/home/babi/miniconda3/envs/week10/lib/python3.8/site-packages/pydantic/main.py:979: PydanticDeprecatedSince20: The `dict` method is deprecated; use `model_dump` instead. Deprecated in Pydantic V2.0 to be removed in V3.0. See Pydantic V2 Migration Guide at https://errors.pydantic.dev/2.5/migration/\n",
      "  warnings.warn('The `dict` method is deprecated; use `model_dump` instead.', DeprecationWarning)\n"
     ]
    },
    {
     "data": {
      "text/plain": [
       "{'question': 'Under what circumstances and to what extent the Sellers are responsible for a breach of representations and warranties?',\n",
       " 'chat_history': [HumanMessage(content='Under what circumstances and to what extent the Sellers are responsible for a breach of representations and warranties?'),\n",
       "  AIMessage(content=\"The Sellers' responsibility for a breach of representations and warranties is limited by the terms outlined in the agreement. Specifically:\\n\\n1. **Survival of Representations and Warranties**: Representations and warranties of the parties terminate automatically as of the Closing. However, covenants and agreements to be performed after the Closing will survive according to their terms.\\n\\n2. **Recourse Limitations**: Other than claims arising from fraud committed by a Person, Non-Party Affiliates (which include directors, officers, employees, and others related to the Company, Sellers, or Buyer) shall not have any liability for obligations or liabilities arising under, in connection with, or related to the agreement or for any claim based on the agreement or the Contemplated Transactions.\\n\\n3. **Claims Arising from Fraud**: Notwithstanding the general limitations, nothing limits or reduces the Buyer’s ability to make claims or recover remedies from any Person with respect to claims arising from fraud committed by such Person.\\n\\nIn summary, Sellers are generally not responsible for breaches of representations and warranties post-Closing, except for covenants and agreements that are to be performed after the Closing and in cases of fraud. Non-Party Affiliates are explicitly protected from liability, except in the case of fraud.\")],\n",
       " 'answer': \"The Sellers' responsibility for a breach of representations and warranties is limited by the terms outlined in the agreement. Specifically:\\n\\n1. **Survival of Representations and Warranties**: Representations and warranties of the parties terminate automatically as of the Closing. However, covenants and agreements to be performed after the Closing will survive according to their terms.\\n\\n2. **Recourse Limitations**: Other than claims arising from fraud committed by a Person, Non-Party Affiliates (which include directors, officers, employees, and others related to the Company, Sellers, or Buyer) shall not have any liability for obligations or liabilities arising under, in connection with, or related to the agreement or for any claim based on the agreement or the Contemplated Transactions.\\n\\n3. **Claims Arising from Fraud**: Notwithstanding the general limitations, nothing limits or reduces the Buyer’s ability to make claims or recover remedies from any Person with respect to claims arising from fraud committed by such Person.\\n\\nIn summary, Sellers are generally not responsible for breaches of representations and warranties post-Closing, except for covenants and agreements that are to be performed after the Closing and in cases of fraud. Non-Party Affiliates are explicitly protected from liability, except in the case of fraud.\"}"
      ]
     },
     "execution_count": 5,
     "metadata": {},
     "output_type": "execute_result"
    }
   ],
   "source": [
    "rag_chain.executor.invoke(\"Under what circumstances and to what extent the Sellers are responsible for a breach of representations and warranties?\")"
   ]
  },
  {
   "cell_type": "code",
   "execution_count": 6,
   "metadata": {},
   "outputs": [
    {
     "name": "stderr",
     "output_type": "stream",
     "text": [
      "/home/babi/miniconda3/envs/week10/lib/python3.8/site-packages/langchain_openai/chat_models/base.py:468: PydanticDeprecatedSince20: The `dict` method is deprecated; use `model_dump` instead. Deprecated in Pydantic V2.0 to be removed in V3.0. See Pydantic V2 Migration Guide at https://errors.pydantic.dev/2.5/migration/\n",
      "  response = response.dict()\n",
      "/home/babi/miniconda3/envs/week10/lib/python3.8/site-packages/pydantic/main.py:979: PydanticDeprecatedSince20: The `dict` method is deprecated; use `model_dump` instead. Deprecated in Pydantic V2.0 to be removed in V3.0. See Pydantic V2 Migration Guide at https://errors.pydantic.dev/2.5/migration/\n",
      "  warnings.warn('The `dict` method is deprecated; use `model_dump` instead.', DeprecationWarning)\n",
      "/home/babi/miniconda3/envs/week10/lib/python3.8/site-packages/langchain_openai/embeddings/base.py:329: PydanticDeprecatedSince20: The `dict` method is deprecated; use `model_dump` instead. Deprecated in Pydantic V2.0 to be removed in V3.0. See Pydantic V2 Migration Guide at https://errors.pydantic.dev/2.5/migration/\n",
      "  response = response.dict()\n",
      "/home/babi/miniconda3/envs/week10/lib/python3.8/site-packages/pydantic/main.py:979: PydanticDeprecatedSince20: The `dict` method is deprecated; use `model_dump` instead. Deprecated in Pydantic V2.0 to be removed in V3.0. See Pydantic V2 Migration Guide at https://errors.pydantic.dev/2.5/migration/\n",
      "  warnings.warn('The `dict` method is deprecated; use `model_dump` instead.', DeprecationWarning)\n",
      "/home/babi/miniconda3/envs/week10/lib/python3.8/site-packages/langchain_openai/chat_models/base.py:468: PydanticDeprecatedSince20: The `dict` method is deprecated; use `model_dump` instead. Deprecated in Pydantic V2.0 to be removed in V3.0. See Pydantic V2 Migration Guide at https://errors.pydantic.dev/2.5/migration/\n",
      "  response = response.dict()\n",
      "/home/babi/miniconda3/envs/week10/lib/python3.8/site-packages/pydantic/main.py:979: PydanticDeprecatedSince20: The `dict` method is deprecated; use `model_dump` instead. Deprecated in Pydantic V2.0 to be removed in V3.0. See Pydantic V2 Migration Guide at https://errors.pydantic.dev/2.5/migration/\n",
      "  warnings.warn('The `dict` method is deprecated; use `model_dump` instead.', DeprecationWarning)\n"
     ]
    },
    {
     "data": {
      "text/plain": [
       "{'question': 'Would the Sellers be responsible if after the closing it is determined that there were inaccuracies in the representation provided by them where such inaccuracies are the resolute of the Sellers’ gross negligence?',\n",
       " 'chat_history': [HumanMessage(content='Under what circumstances and to what extent the Sellers are responsible for a breach of representations and warranties?'),\n",
       "  AIMessage(content=\"The Sellers' responsibility for a breach of representations and warranties is limited by the terms outlined in the agreement. Specifically:\\n\\n1. **Survival of Representations and Warranties**: Representations and warranties of the parties terminate automatically as of the Closing. However, covenants and agreements to be performed after the Closing will survive according to their terms.\\n\\n2. **Recourse Limitations**: Other than claims arising from fraud committed by a Person, Non-Party Affiliates (which include directors, officers, employees, and others related to the Company, Sellers, or Buyer) shall not have any liability for obligations or liabilities arising under, in connection with, or related to the agreement or for any claim based on the agreement or the Contemplated Transactions.\\n\\n3. **Claims Arising from Fraud**: Notwithstanding the general limitations, nothing limits or reduces the Buyer’s ability to make claims or recover remedies from any Person with respect to claims arising from fraud committed by such Person.\\n\\nIn summary, Sellers are generally not responsible for breaches of representations and warranties post-Closing, except for covenants and agreements that are to be performed after the Closing and in cases of fraud. Non-Party Affiliates are explicitly protected from liability, except in the case of fraud.\"),\n",
       "  HumanMessage(content='Would the Sellers be responsible if after the closing it is determined that there were inaccuracies in the representation provided by them where such inaccuracies are the resolute of the Sellers’ gross negligence?'),\n",
       "  AIMessage(content='Based on the provided context, Sellers would not be liable for inaccuracies in their representations and warranties discovered post-closing if those inaccuracies resulted from their gross negligence. The recourse limitations specifically state that other than claims arising from fraud committed by the Person, no party affiliated with the Company, Sellers, or Buyer will have any liability for obligations or liabilities arising under, in connection with, or related to the agreement or for any claim based on, in respect of, or by reason of the agreement or the contemplated transactions. This includes any breach or violation of the agreement or any failure of the contemplated transactions to be consummated, except in cases of fraud.')],\n",
       " 'answer': 'Based on the provided context, Sellers would not be liable for inaccuracies in their representations and warranties discovered post-closing if those inaccuracies resulted from their gross negligence. The recourse limitations specifically state that other than claims arising from fraud committed by the Person, no party affiliated with the Company, Sellers, or Buyer will have any liability for obligations or liabilities arising under, in connection with, or related to the agreement or for any claim based on, in respect of, or by reason of the agreement or the contemplated transactions. This includes any breach or violation of the agreement or any failure of the contemplated transactions to be consummated, except in cases of fraud.'}"
      ]
     },
     "execution_count": 6,
     "metadata": {},
     "output_type": "execute_result"
    }
   ],
   "source": [
    "rag_chain.executor.invoke(\"Would the Sellers be responsible if after the closing it is determined that there were inaccuracies in the representation provided by them where such inaccuracies are the resolute of the Sellers’ gross negligence?\")"
   ]
  },
  {
   "cell_type": "code",
   "execution_count": 7,
   "metadata": {},
   "outputs": [
    {
     "name": "stderr",
     "output_type": "stream",
     "text": [
      "/home/babi/miniconda3/envs/week10/lib/python3.8/site-packages/langchain_openai/chat_models/base.py:468: PydanticDeprecatedSince20: The `dict` method is deprecated; use `model_dump` instead. Deprecated in Pydantic V2.0 to be removed in V3.0. See Pydantic V2 Migration Guide at https://errors.pydantic.dev/2.5/migration/\n",
      "  response = response.dict()\n",
      "/home/babi/miniconda3/envs/week10/lib/python3.8/site-packages/pydantic/main.py:979: PydanticDeprecatedSince20: The `dict` method is deprecated; use `model_dump` instead. Deprecated in Pydantic V2.0 to be removed in V3.0. See Pydantic V2 Migration Guide at https://errors.pydantic.dev/2.5/migration/\n",
      "  warnings.warn('The `dict` method is deprecated; use `model_dump` instead.', DeprecationWarning)\n",
      "/home/babi/miniconda3/envs/week10/lib/python3.8/site-packages/langchain_openai/embeddings/base.py:329: PydanticDeprecatedSince20: The `dict` method is deprecated; use `model_dump` instead. Deprecated in Pydantic V2.0 to be removed in V3.0. See Pydantic V2 Migration Guide at https://errors.pydantic.dev/2.5/migration/\n",
      "  response = response.dict()\n",
      "/home/babi/miniconda3/envs/week10/lib/python3.8/site-packages/pydantic/main.py:979: PydanticDeprecatedSince20: The `dict` method is deprecated; use `model_dump` instead. Deprecated in Pydantic V2.0 to be removed in V3.0. See Pydantic V2 Migration Guide at https://errors.pydantic.dev/2.5/migration/\n",
      "  warnings.warn('The `dict` method is deprecated; use `model_dump` instead.', DeprecationWarning)\n",
      "/home/babi/miniconda3/envs/week10/lib/python3.8/site-packages/langchain_openai/chat_models/base.py:468: PydanticDeprecatedSince20: The `dict` method is deprecated; use `model_dump` instead. Deprecated in Pydantic V2.0 to be removed in V3.0. See Pydantic V2 Migration Guide at https://errors.pydantic.dev/2.5/migration/\n",
      "  response = response.dict()\n",
      "/home/babi/miniconda3/envs/week10/lib/python3.8/site-packages/pydantic/main.py:979: PydanticDeprecatedSince20: The `dict` method is deprecated; use `model_dump` instead. Deprecated in Pydantic V2.0 to be removed in V3.0. See Pydantic V2 Migration Guide at https://errors.pydantic.dev/2.5/migration/\n",
      "  warnings.warn('The `dict` method is deprecated; use `model_dump` instead.', DeprecationWarning)\n"
     ]
    },
    {
     "data": {
      "text/plain": [
       "{'question': 'How much is the escrow amount?',\n",
       " 'chat_history': [HumanMessage(content='Under what circumstances and to what extent the Sellers are responsible for a breach of representations and warranties?'),\n",
       "  AIMessage(content=\"The Sellers' responsibility for a breach of representations and warranties is limited by the terms outlined in the agreement. Specifically:\\n\\n1. **Survival of Representations and Warranties**: Representations and warranties of the parties terminate automatically as of the Closing. However, covenants and agreements to be performed after the Closing will survive according to their terms.\\n\\n2. **Recourse Limitations**: Other than claims arising from fraud committed by a Person, Non-Party Affiliates (which include directors, officers, employees, and others related to the Company, Sellers, or Buyer) shall not have any liability for obligations or liabilities arising under, in connection with, or related to the agreement or for any claim based on the agreement or the Contemplated Transactions.\\n\\n3. **Claims Arising from Fraud**: Notwithstanding the general limitations, nothing limits or reduces the Buyer’s ability to make claims or recover remedies from any Person with respect to claims arising from fraud committed by such Person.\\n\\nIn summary, Sellers are generally not responsible for breaches of representations and warranties post-Closing, except for covenants and agreements that are to be performed after the Closing and in cases of fraud. Non-Party Affiliates are explicitly protected from liability, except in the case of fraud.\"),\n",
       "  HumanMessage(content='Would the Sellers be responsible if after the closing it is determined that there were inaccuracies in the representation provided by them where such inaccuracies are the resolute of the Sellers’ gross negligence?'),\n",
       "  AIMessage(content='Based on the provided context, Sellers would not be liable for inaccuracies in their representations and warranties discovered post-closing if those inaccuracies resulted from their gross negligence. The recourse limitations specifically state that other than claims arising from fraud committed by the Person, no party affiliated with the Company, Sellers, or Buyer will have any liability for obligations or liabilities arising under, in connection with, or related to the agreement or for any claim based on, in respect of, or by reason of the agreement or the contemplated transactions. This includes any breach or violation of the agreement or any failure of the contemplated transactions to be consummated, except in cases of fraud.'),\n",
       "  HumanMessage(content='How much is the escrow amount?'),\n",
       "  AIMessage(content='The specific amount set aside in escrow for this transaction is not provided in the given context. The context refers to the \"Escrow Amount\" multiple times but does not specify an exact figure. To determine the actual amount, one would need to refer to the relevant section of the agreement or exhibit that lists the Escrow Amount.')],\n",
       " 'answer': 'The specific amount set aside in escrow for this transaction is not provided in the given context. The context refers to the \"Escrow Amount\" multiple times but does not specify an exact figure. To determine the actual amount, one would need to refer to the relevant section of the agreement or exhibit that lists the Escrow Amount.'}"
      ]
     },
     "execution_count": 7,
     "metadata": {},
     "output_type": "execute_result"
    }
   ],
   "source": [
    "rag_chain.executor.invoke(\"How much is the escrow amount?\")"
   ]
  }
 ],
 "metadata": {
  "kernelspec": {
   "display_name": "week10",
   "language": "python",
   "name": "python3"
  },
  "language_info": {
   "codemirror_mode": {
    "name": "ipython",
    "version": 3
   },
   "file_extension": ".py",
   "mimetype": "text/x-python",
   "name": "python",
   "nbconvert_exporter": "python",
   "pygments_lexer": "ipython3",
   "version": "3.8.2"
  }
 },
 "nbformat": 4,
 "nbformat_minor": 2
}
