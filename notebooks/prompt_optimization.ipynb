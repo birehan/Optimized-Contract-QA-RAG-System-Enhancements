{
 "cells": [
  {
   "cell_type": "markdown",
   "metadata": {},
   "source": [
    "### Prompt Optimization for questions"
   ]
  },
  {
   "cell_type": "code",
   "execution_count": 1,
   "metadata": {},
   "outputs": [],
   "source": [
    "import os\n",
    "import sys\n",
    "sys.path.append(os.path.abspath(os.path.join('../scripts')))"
   ]
  },
  {
   "cell_type": "code",
   "execution_count": 5,
   "metadata": {},
   "outputs": [],
   "source": [
    "from rag_pipeline import RagPipeline\n",
    "from rag_utils import extract_qa_dataset"
   ]
  },
  {
   "cell_type": "code",
   "execution_count": 14,
   "metadata": {},
   "outputs": [],
   "source": [
    "question_filepath = \"../data/Evaluation Sets/Raptor Q&A2.docx\"\n",
    "context_fillepath = \"../data/Evaluation Sets/Raptor Contract.docx\"\n",
    "\n",
    "questions, answers = extract_qa_dataset(question_filepath)"
   ]
  },
  {
   "cell_type": "code",
   "execution_count": 15,
   "metadata": {},
   "outputs": [
    {
     "data": {
      "text/plain": [
       "['Under what circumstances and to what extent the Sellers are responsible for a breach of representations and warranties?',\n",
       " 'Would the Sellers be responsible if after the closing it is determined that there were inaccuracies in the representation provided by them where such inaccuracies are the resolute of the Sellers’ gross negligence?',\n",
       " 'How much is the escrow amount?',\n",
       " 'Is escrow amount grete then the Retention Amount ?',\n",
       " 'What is the purpose of the escrow?',\n",
       " 'May the Escrow Amount serve as a recourse for the Buyer in case of breach of representations by the Company?',\n",
       " 'Are there any conditions to the closing?',\n",
       " 'Are Change of Control Payments considered a Seller Transaction Expense?',\n",
       " 'Would the aggregate amount payable by the Buyer to the Sellers be affected if it is determined that the actual Closing Debt Amount is greater the estimated Closing Debut Amount?',\n",
       " 'Does the Buyer need to pay the Employees Closing Bonus Amount directly to the Company’s employees?',\n",
       " 'Does any of the Sellers provide a representation with respect to any Tax matters related to the Company?',\n",
       " 'Is any of the Sellers bound by a non-competition covenant after the Closing?',\n",
       " 'Whose consent is required for the assignment of the Agreement by the Buyer?',\n",
       " 'Does the Buyer needs the Sellers’ consent in the event of an assignment of the Agreement to a third party who is not a Buyer’s Affiliates?']"
      ]
     },
     "execution_count": 15,
     "metadata": {},
     "output_type": "execute_result"
    }
   ],
   "source": [
    "questions"
   ]
  },
  {
   "cell_type": "code",
   "execution_count": 16,
   "metadata": {},
   "outputs": [
    {
     "name": "stderr",
     "output_type": "stream",
     "text": [
      "2024-02-26 10:59:57,223:logger:ChromaDB vectorstore created successfully.\n",
      "2024-02-26 10:59:57,224:logger:vectorstore_backend_retriver created successfully.\n",
      "2024-02-26 10:59:57,241:logger:langchain with rag pipeline created successfully.\n"
     ]
    },
    {
     "name": "stdout",
     "output_type": "stream",
     "text": [
      "<class 'langchain_community.embeddings.openai.OpenAIEmbeddings'> text-embedding-ada-002\n"
     ]
    }
   ],
   "source": [
    "rag_chain = RagPipeline(template_file_path=\"../prompts/prompt_optimizer.txt\")"
   ]
  },
  {
   "cell_type": "code",
   "execution_count": 17,
   "metadata": {},
   "outputs": [
    {
     "name": "stderr",
     "output_type": "stream",
     "text": [
      "/home/babi/miniconda3/envs/week10/lib/python3.8/site-packages/langchain_community/embeddings/openai.py:500: PydanticDeprecatedSince20: The `dict` method is deprecated; use `model_dump` instead. Deprecated in Pydantic V2.0 to be removed in V3.0. See Pydantic V2 Migration Guide at https://errors.pydantic.dev/2.5/migration/\n",
      "  response = response.dict()\n",
      "/home/babi/miniconda3/envs/week10/lib/python3.8/site-packages/pydantic/main.py:979: PydanticDeprecatedSince20: The `dict` method is deprecated; use `model_dump` instead. Deprecated in Pydantic V2.0 to be removed in V3.0. See Pydantic V2 Migration Guide at https://errors.pydantic.dev/2.5/migration/\n",
      "  warnings.warn('The `dict` method is deprecated; use `model_dump` instead.', DeprecationWarning)\n",
      "2024-02-26 11:00:29,068:logger:Data source added to the system successfully\n"
     ]
    }
   ],
   "source": [
    "rag_chain.add_datasource(context_fillepath)"
   ]
  },
  {
   "cell_type": "code",
   "execution_count": 20,
   "metadata": {},
   "outputs": [
    {
     "name": "stderr",
     "output_type": "stream",
     "text": [
      "/home/babi/miniconda3/envs/week10/lib/python3.8/site-packages/langchain_openai/chat_models/base.py:468: PydanticDeprecatedSince20: The `dict` method is deprecated; use `model_dump` instead. Deprecated in Pydantic V2.0 to be removed in V3.0. See Pydantic V2 Migration Guide at https://errors.pydantic.dev/2.5/migration/\n",
      "  response = response.dict()\n",
      "/home/babi/miniconda3/envs/week10/lib/python3.8/site-packages/pydantic/main.py:979: PydanticDeprecatedSince20: The `dict` method is deprecated; use `model_dump` instead. Deprecated in Pydantic V2.0 to be removed in V3.0. See Pydantic V2 Migration Guide at https://errors.pydantic.dev/2.5/migration/\n",
      "  warnings.warn('The `dict` method is deprecated; use `model_dump` instead.', DeprecationWarning)\n",
      "/home/babi/miniconda3/envs/week10/lib/python3.8/site-packages/langchain_community/embeddings/openai.py:500: PydanticDeprecatedSince20: The `dict` method is deprecated; use `model_dump` instead. Deprecated in Pydantic V2.0 to be removed in V3.0. See Pydantic V2 Migration Guide at https://errors.pydantic.dev/2.5/migration/\n",
      "  response = response.dict()\n",
      "/home/babi/miniconda3/envs/week10/lib/python3.8/site-packages/pydantic/main.py:979: PydanticDeprecatedSince20: The `dict` method is deprecated; use `model_dump` instead. Deprecated in Pydantic V2.0 to be removed in V3.0. See Pydantic V2 Migration Guide at https://errors.pydantic.dev/2.5/migration/\n",
      "  warnings.warn('The `dict` method is deprecated; use `model_dump` instead.', DeprecationWarning)\n",
      "/home/babi/miniconda3/envs/week10/lib/python3.8/site-packages/langchain_openai/chat_models/base.py:468: PydanticDeprecatedSince20: The `dict` method is deprecated; use `model_dump` instead. Deprecated in Pydantic V2.0 to be removed in V3.0. See Pydantic V2 Migration Guide at https://errors.pydantic.dev/2.5/migration/\n",
      "  response = response.dict()\n",
      "/home/babi/miniconda3/envs/week10/lib/python3.8/site-packages/pydantic/main.py:979: PydanticDeprecatedSince20: The `dict` method is deprecated; use `model_dump` instead. Deprecated in Pydantic V2.0 to be removed in V3.0. See Pydantic V2 Migration Guide at https://errors.pydantic.dev/2.5/migration/\n",
      "  warnings.warn('The `dict` method is deprecated; use `model_dump` instead.', DeprecationWarning)\n",
      "/home/babi/miniconda3/envs/week10/lib/python3.8/site-packages/langchain_openai/chat_models/base.py:468: PydanticDeprecatedSince20: The `dict` method is deprecated; use `model_dump` instead. Deprecated in Pydantic V2.0 to be removed in V3.0. See Pydantic V2 Migration Guide at https://errors.pydantic.dev/2.5/migration/\n",
      "  response = response.dict()\n",
      "/home/babi/miniconda3/envs/week10/lib/python3.8/site-packages/pydantic/main.py:979: PydanticDeprecatedSince20: The `dict` method is deprecated; use `model_dump` instead. Deprecated in Pydantic V2.0 to be removed in V3.0. See Pydantic V2 Migration Guide at https://errors.pydantic.dev/2.5/migration/\n",
      "  warnings.warn('The `dict` method is deprecated; use `model_dump` instead.', DeprecationWarning)\n",
      "/home/babi/miniconda3/envs/week10/lib/python3.8/site-packages/langchain_community/embeddings/openai.py:500: PydanticDeprecatedSince20: The `dict` method is deprecated; use `model_dump` instead. Deprecated in Pydantic V2.0 to be removed in V3.0. See Pydantic V2 Migration Guide at https://errors.pydantic.dev/2.5/migration/\n",
      "  response = response.dict()\n",
      "/home/babi/miniconda3/envs/week10/lib/python3.8/site-packages/pydantic/main.py:979: PydanticDeprecatedSince20: The `dict` method is deprecated; use `model_dump` instead. Deprecated in Pydantic V2.0 to be removed in V3.0. See Pydantic V2 Migration Guide at https://errors.pydantic.dev/2.5/migration/\n",
      "  warnings.warn('The `dict` method is deprecated; use `model_dump` instead.', DeprecationWarning)\n",
      "/home/babi/miniconda3/envs/week10/lib/python3.8/site-packages/langchain_openai/chat_models/base.py:468: PydanticDeprecatedSince20: The `dict` method is deprecated; use `model_dump` instead. Deprecated in Pydantic V2.0 to be removed in V3.0. See Pydantic V2 Migration Guide at https://errors.pydantic.dev/2.5/migration/\n",
      "  response = response.dict()\n",
      "/home/babi/miniconda3/envs/week10/lib/python3.8/site-packages/pydantic/main.py:979: PydanticDeprecatedSince20: The `dict` method is deprecated; use `model_dump` instead. Deprecated in Pydantic V2.0 to be removed in V3.0. See Pydantic V2 Migration Guide at https://errors.pydantic.dev/2.5/migration/\n",
      "  warnings.warn('The `dict` method is deprecated; use `model_dump` instead.', DeprecationWarning)\n",
      "/home/babi/miniconda3/envs/week10/lib/python3.8/site-packages/langchain_openai/chat_models/base.py:468: PydanticDeprecatedSince20: The `dict` method is deprecated; use `model_dump` instead. Deprecated in Pydantic V2.0 to be removed in V3.0. See Pydantic V2 Migration Guide at https://errors.pydantic.dev/2.5/migration/\n",
      "  response = response.dict()\n",
      "/home/babi/miniconda3/envs/week10/lib/python3.8/site-packages/pydantic/main.py:979: PydanticDeprecatedSince20: The `dict` method is deprecated; use `model_dump` instead. Deprecated in Pydantic V2.0 to be removed in V3.0. See Pydantic V2 Migration Guide at https://errors.pydantic.dev/2.5/migration/\n",
      "  warnings.warn('The `dict` method is deprecated; use `model_dump` instead.', DeprecationWarning)\n",
      "/home/babi/miniconda3/envs/week10/lib/python3.8/site-packages/langchain_community/embeddings/openai.py:500: PydanticDeprecatedSince20: The `dict` method is deprecated; use `model_dump` instead. Deprecated in Pydantic V2.0 to be removed in V3.0. See Pydantic V2 Migration Guide at https://errors.pydantic.dev/2.5/migration/\n",
      "  response = response.dict()\n",
      "/home/babi/miniconda3/envs/week10/lib/python3.8/site-packages/pydantic/main.py:979: PydanticDeprecatedSince20: The `dict` method is deprecated; use `model_dump` instead. Deprecated in Pydantic V2.0 to be removed in V3.0. See Pydantic V2 Migration Guide at https://errors.pydantic.dev/2.5/migration/\n",
      "  warnings.warn('The `dict` method is deprecated; use `model_dump` instead.', DeprecationWarning)\n",
      "/home/babi/miniconda3/envs/week10/lib/python3.8/site-packages/langchain_openai/chat_models/base.py:468: PydanticDeprecatedSince20: The `dict` method is deprecated; use `model_dump` instead. Deprecated in Pydantic V2.0 to be removed in V3.0. See Pydantic V2 Migration Guide at https://errors.pydantic.dev/2.5/migration/\n",
      "  response = response.dict()\n",
      "/home/babi/miniconda3/envs/week10/lib/python3.8/site-packages/pydantic/main.py:979: PydanticDeprecatedSince20: The `dict` method is deprecated; use `model_dump` instead. Deprecated in Pydantic V2.0 to be removed in V3.0. See Pydantic V2 Migration Guide at https://errors.pydantic.dev/2.5/migration/\n",
      "  warnings.warn('The `dict` method is deprecated; use `model_dump` instead.', DeprecationWarning)\n",
      "/home/babi/miniconda3/envs/week10/lib/python3.8/site-packages/langchain_openai/chat_models/base.py:468: PydanticDeprecatedSince20: The `dict` method is deprecated; use `model_dump` instead. Deprecated in Pydantic V2.0 to be removed in V3.0. See Pydantic V2 Migration Guide at https://errors.pydantic.dev/2.5/migration/\n",
      "  response = response.dict()\n",
      "/home/babi/miniconda3/envs/week10/lib/python3.8/site-packages/pydantic/main.py:979: PydanticDeprecatedSince20: The `dict` method is deprecated; use `model_dump` instead. Deprecated in Pydantic V2.0 to be removed in V3.0. See Pydantic V2 Migration Guide at https://errors.pydantic.dev/2.5/migration/\n",
      "  warnings.warn('The `dict` method is deprecated; use `model_dump` instead.', DeprecationWarning)\n",
      "/home/babi/miniconda3/envs/week10/lib/python3.8/site-packages/langchain_community/embeddings/openai.py:500: PydanticDeprecatedSince20: The `dict` method is deprecated; use `model_dump` instead. Deprecated in Pydantic V2.0 to be removed in V3.0. See Pydantic V2 Migration Guide at https://errors.pydantic.dev/2.5/migration/\n",
      "  response = response.dict()\n",
      "/home/babi/miniconda3/envs/week10/lib/python3.8/site-packages/pydantic/main.py:979: PydanticDeprecatedSince20: The `dict` method is deprecated; use `model_dump` instead. Deprecated in Pydantic V2.0 to be removed in V3.0. See Pydantic V2 Migration Guide at https://errors.pydantic.dev/2.5/migration/\n",
      "  warnings.warn('The `dict` method is deprecated; use `model_dump` instead.', DeprecationWarning)\n",
      "/home/babi/miniconda3/envs/week10/lib/python3.8/site-packages/langchain_openai/chat_models/base.py:468: PydanticDeprecatedSince20: The `dict` method is deprecated; use `model_dump` instead. Deprecated in Pydantic V2.0 to be removed in V3.0. See Pydantic V2 Migration Guide at https://errors.pydantic.dev/2.5/migration/\n",
      "  response = response.dict()\n",
      "/home/babi/miniconda3/envs/week10/lib/python3.8/site-packages/pydantic/main.py:979: PydanticDeprecatedSince20: The `dict` method is deprecated; use `model_dump` instead. Deprecated in Pydantic V2.0 to be removed in V3.0. See Pydantic V2 Migration Guide at https://errors.pydantic.dev/2.5/migration/\n",
      "  warnings.warn('The `dict` method is deprecated; use `model_dump` instead.', DeprecationWarning)\n",
      "/home/babi/miniconda3/envs/week10/lib/python3.8/site-packages/langchain_openai/chat_models/base.py:468: PydanticDeprecatedSince20: The `dict` method is deprecated; use `model_dump` instead. Deprecated in Pydantic V2.0 to be removed in V3.0. See Pydantic V2 Migration Guide at https://errors.pydantic.dev/2.5/migration/\n",
      "  response = response.dict()\n",
      "/home/babi/miniconda3/envs/week10/lib/python3.8/site-packages/pydantic/main.py:979: PydanticDeprecatedSince20: The `dict` method is deprecated; use `model_dump` instead. Deprecated in Pydantic V2.0 to be removed in V3.0. See Pydantic V2 Migration Guide at https://errors.pydantic.dev/2.5/migration/\n",
      "  warnings.warn('The `dict` method is deprecated; use `model_dump` instead.', DeprecationWarning)\n",
      "/home/babi/miniconda3/envs/week10/lib/python3.8/site-packages/langchain_community/embeddings/openai.py:500: PydanticDeprecatedSince20: The `dict` method is deprecated; use `model_dump` instead. Deprecated in Pydantic V2.0 to be removed in V3.0. See Pydantic V2 Migration Guide at https://errors.pydantic.dev/2.5/migration/\n",
      "  response = response.dict()\n",
      "/home/babi/miniconda3/envs/week10/lib/python3.8/site-packages/pydantic/main.py:979: PydanticDeprecatedSince20: The `dict` method is deprecated; use `model_dump` instead. Deprecated in Pydantic V2.0 to be removed in V3.0. See Pydantic V2 Migration Guide at https://errors.pydantic.dev/2.5/migration/\n",
      "  warnings.warn('The `dict` method is deprecated; use `model_dump` instead.', DeprecationWarning)\n",
      "/home/babi/miniconda3/envs/week10/lib/python3.8/site-packages/langchain_openai/chat_models/base.py:468: PydanticDeprecatedSince20: The `dict` method is deprecated; use `model_dump` instead. Deprecated in Pydantic V2.0 to be removed in V3.0. See Pydantic V2 Migration Guide at https://errors.pydantic.dev/2.5/migration/\n",
      "  response = response.dict()\n",
      "/home/babi/miniconda3/envs/week10/lib/python3.8/site-packages/pydantic/main.py:979: PydanticDeprecatedSince20: The `dict` method is deprecated; use `model_dump` instead. Deprecated in Pydantic V2.0 to be removed in V3.0. See Pydantic V2 Migration Guide at https://errors.pydantic.dev/2.5/migration/\n",
      "  warnings.warn('The `dict` method is deprecated; use `model_dump` instead.', DeprecationWarning)\n",
      "/home/babi/miniconda3/envs/week10/lib/python3.8/site-packages/langchain_openai/chat_models/base.py:468: PydanticDeprecatedSince20: The `dict` method is deprecated; use `model_dump` instead. Deprecated in Pydantic V2.0 to be removed in V3.0. See Pydantic V2 Migration Guide at https://errors.pydantic.dev/2.5/migration/\n",
      "  response = response.dict()\n",
      "/home/babi/miniconda3/envs/week10/lib/python3.8/site-packages/pydantic/main.py:979: PydanticDeprecatedSince20: The `dict` method is deprecated; use `model_dump` instead. Deprecated in Pydantic V2.0 to be removed in V3.0. See Pydantic V2 Migration Guide at https://errors.pydantic.dev/2.5/migration/\n",
      "  warnings.warn('The `dict` method is deprecated; use `model_dump` instead.', DeprecationWarning)\n",
      "/home/babi/miniconda3/envs/week10/lib/python3.8/site-packages/langchain_community/embeddings/openai.py:500: PydanticDeprecatedSince20: The `dict` method is deprecated; use `model_dump` instead. Deprecated in Pydantic V2.0 to be removed in V3.0. See Pydantic V2 Migration Guide at https://errors.pydantic.dev/2.5/migration/\n",
      "  response = response.dict()\n",
      "/home/babi/miniconda3/envs/week10/lib/python3.8/site-packages/pydantic/main.py:979: PydanticDeprecatedSince20: The `dict` method is deprecated; use `model_dump` instead. Deprecated in Pydantic V2.0 to be removed in V3.0. See Pydantic V2 Migration Guide at https://errors.pydantic.dev/2.5/migration/\n",
      "  warnings.warn('The `dict` method is deprecated; use `model_dump` instead.', DeprecationWarning)\n",
      "/home/babi/miniconda3/envs/week10/lib/python3.8/site-packages/langchain_openai/chat_models/base.py:468: PydanticDeprecatedSince20: The `dict` method is deprecated; use `model_dump` instead. Deprecated in Pydantic V2.0 to be removed in V3.0. See Pydantic V2 Migration Guide at https://errors.pydantic.dev/2.5/migration/\n",
      "  response = response.dict()\n",
      "/home/babi/miniconda3/envs/week10/lib/python3.8/site-packages/pydantic/main.py:979: PydanticDeprecatedSince20: The `dict` method is deprecated; use `model_dump` instead. Deprecated in Pydantic V2.0 to be removed in V3.0. See Pydantic V2 Migration Guide at https://errors.pydantic.dev/2.5/migration/\n",
      "  warnings.warn('The `dict` method is deprecated; use `model_dump` instead.', DeprecationWarning)\n",
      "/home/babi/miniconda3/envs/week10/lib/python3.8/site-packages/langchain_openai/chat_models/base.py:468: PydanticDeprecatedSince20: The `dict` method is deprecated; use `model_dump` instead. Deprecated in Pydantic V2.0 to be removed in V3.0. See Pydantic V2 Migration Guide at https://errors.pydantic.dev/2.5/migration/\n",
      "  response = response.dict()\n",
      "/home/babi/miniconda3/envs/week10/lib/python3.8/site-packages/pydantic/main.py:979: PydanticDeprecatedSince20: The `dict` method is deprecated; use `model_dump` instead. Deprecated in Pydantic V2.0 to be removed in V3.0. See Pydantic V2 Migration Guide at https://errors.pydantic.dev/2.5/migration/\n",
      "  warnings.warn('The `dict` method is deprecated; use `model_dump` instead.', DeprecationWarning)\n",
      "/home/babi/miniconda3/envs/week10/lib/python3.8/site-packages/langchain_community/embeddings/openai.py:500: PydanticDeprecatedSince20: The `dict` method is deprecated; use `model_dump` instead. Deprecated in Pydantic V2.0 to be removed in V3.0. See Pydantic V2 Migration Guide at https://errors.pydantic.dev/2.5/migration/\n",
      "  response = response.dict()\n",
      "/home/babi/miniconda3/envs/week10/lib/python3.8/site-packages/pydantic/main.py:979: PydanticDeprecatedSince20: The `dict` method is deprecated; use `model_dump` instead. Deprecated in Pydantic V2.0 to be removed in V3.0. See Pydantic V2 Migration Guide at https://errors.pydantic.dev/2.5/migration/\n",
      "  warnings.warn('The `dict` method is deprecated; use `model_dump` instead.', DeprecationWarning)\n",
      "/home/babi/miniconda3/envs/week10/lib/python3.8/site-packages/langchain_openai/chat_models/base.py:468: PydanticDeprecatedSince20: The `dict` method is deprecated; use `model_dump` instead. Deprecated in Pydantic V2.0 to be removed in V3.0. See Pydantic V2 Migration Guide at https://errors.pydantic.dev/2.5/migration/\n",
      "  response = response.dict()\n",
      "/home/babi/miniconda3/envs/week10/lib/python3.8/site-packages/pydantic/main.py:979: PydanticDeprecatedSince20: The `dict` method is deprecated; use `model_dump` instead. Deprecated in Pydantic V2.0 to be removed in V3.0. See Pydantic V2 Migration Guide at https://errors.pydantic.dev/2.5/migration/\n",
      "  warnings.warn('The `dict` method is deprecated; use `model_dump` instead.', DeprecationWarning)\n",
      "/home/babi/miniconda3/envs/week10/lib/python3.8/site-packages/langchain_openai/chat_models/base.py:468: PydanticDeprecatedSince20: The `dict` method is deprecated; use `model_dump` instead. Deprecated in Pydantic V2.0 to be removed in V3.0. See Pydantic V2 Migration Guide at https://errors.pydantic.dev/2.5/migration/\n",
      "  response = response.dict()\n",
      "/home/babi/miniconda3/envs/week10/lib/python3.8/site-packages/pydantic/main.py:979: PydanticDeprecatedSince20: The `dict` method is deprecated; use `model_dump` instead. Deprecated in Pydantic V2.0 to be removed in V3.0. See Pydantic V2 Migration Guide at https://errors.pydantic.dev/2.5/migration/\n",
      "  warnings.warn('The `dict` method is deprecated; use `model_dump` instead.', DeprecationWarning)\n",
      "/home/babi/miniconda3/envs/week10/lib/python3.8/site-packages/langchain_community/embeddings/openai.py:500: PydanticDeprecatedSince20: The `dict` method is deprecated; use `model_dump` instead. Deprecated in Pydantic V2.0 to be removed in V3.0. See Pydantic V2 Migration Guide at https://errors.pydantic.dev/2.5/migration/\n",
      "  response = response.dict()\n",
      "/home/babi/miniconda3/envs/week10/lib/python3.8/site-packages/pydantic/main.py:979: PydanticDeprecatedSince20: The `dict` method is deprecated; use `model_dump` instead. Deprecated in Pydantic V2.0 to be removed in V3.0. See Pydantic V2 Migration Guide at https://errors.pydantic.dev/2.5/migration/\n",
      "  warnings.warn('The `dict` method is deprecated; use `model_dump` instead.', DeprecationWarning)\n",
      "/home/babi/miniconda3/envs/week10/lib/python3.8/site-packages/langchain_openai/chat_models/base.py:468: PydanticDeprecatedSince20: The `dict` method is deprecated; use `model_dump` instead. Deprecated in Pydantic V2.0 to be removed in V3.0. See Pydantic V2 Migration Guide at https://errors.pydantic.dev/2.5/migration/\n",
      "  response = response.dict()\n",
      "/home/babi/miniconda3/envs/week10/lib/python3.8/site-packages/pydantic/main.py:979: PydanticDeprecatedSince20: The `dict` method is deprecated; use `model_dump` instead. Deprecated in Pydantic V2.0 to be removed in V3.0. See Pydantic V2 Migration Guide at https://errors.pydantic.dev/2.5/migration/\n",
      "  warnings.warn('The `dict` method is deprecated; use `model_dump` instead.', DeprecationWarning)\n",
      "/home/babi/miniconda3/envs/week10/lib/python3.8/site-packages/langchain_openai/chat_models/base.py:468: PydanticDeprecatedSince20: The `dict` method is deprecated; use `model_dump` instead. Deprecated in Pydantic V2.0 to be removed in V3.0. See Pydantic V2 Migration Guide at https://errors.pydantic.dev/2.5/migration/\n",
      "  response = response.dict()\n",
      "/home/babi/miniconda3/envs/week10/lib/python3.8/site-packages/pydantic/main.py:979: PydanticDeprecatedSince20: The `dict` method is deprecated; use `model_dump` instead. Deprecated in Pydantic V2.0 to be removed in V3.0. See Pydantic V2 Migration Guide at https://errors.pydantic.dev/2.5/migration/\n",
      "  warnings.warn('The `dict` method is deprecated; use `model_dump` instead.', DeprecationWarning)\n",
      "/home/babi/miniconda3/envs/week10/lib/python3.8/site-packages/langchain_community/embeddings/openai.py:500: PydanticDeprecatedSince20: The `dict` method is deprecated; use `model_dump` instead. Deprecated in Pydantic V2.0 to be removed in V3.0. See Pydantic V2 Migration Guide at https://errors.pydantic.dev/2.5/migration/\n",
      "  response = response.dict()\n",
      "/home/babi/miniconda3/envs/week10/lib/python3.8/site-packages/pydantic/main.py:979: PydanticDeprecatedSince20: The `dict` method is deprecated; use `model_dump` instead. Deprecated in Pydantic V2.0 to be removed in V3.0. See Pydantic V2 Migration Guide at https://errors.pydantic.dev/2.5/migration/\n",
      "  warnings.warn('The `dict` method is deprecated; use `model_dump` instead.', DeprecationWarning)\n",
      "/home/babi/miniconda3/envs/week10/lib/python3.8/site-packages/langchain_openai/chat_models/base.py:468: PydanticDeprecatedSince20: The `dict` method is deprecated; use `model_dump` instead. Deprecated in Pydantic V2.0 to be removed in V3.0. See Pydantic V2 Migration Guide at https://errors.pydantic.dev/2.5/migration/\n",
      "  response = response.dict()\n",
      "/home/babi/miniconda3/envs/week10/lib/python3.8/site-packages/pydantic/main.py:979: PydanticDeprecatedSince20: The `dict` method is deprecated; use `model_dump` instead. Deprecated in Pydantic V2.0 to be removed in V3.0. See Pydantic V2 Migration Guide at https://errors.pydantic.dev/2.5/migration/\n",
      "  warnings.warn('The `dict` method is deprecated; use `model_dump` instead.', DeprecationWarning)\n",
      "/home/babi/miniconda3/envs/week10/lib/python3.8/site-packages/langchain_openai/chat_models/base.py:468: PydanticDeprecatedSince20: The `dict` method is deprecated; use `model_dump` instead. Deprecated in Pydantic V2.0 to be removed in V3.0. See Pydantic V2 Migration Guide at https://errors.pydantic.dev/2.5/migration/\n",
      "  response = response.dict()\n",
      "/home/babi/miniconda3/envs/week10/lib/python3.8/site-packages/pydantic/main.py:979: PydanticDeprecatedSince20: The `dict` method is deprecated; use `model_dump` instead. Deprecated in Pydantic V2.0 to be removed in V3.0. See Pydantic V2 Migration Guide at https://errors.pydantic.dev/2.5/migration/\n",
      "  warnings.warn('The `dict` method is deprecated; use `model_dump` instead.', DeprecationWarning)\n",
      "/home/babi/miniconda3/envs/week10/lib/python3.8/site-packages/langchain_community/embeddings/openai.py:500: PydanticDeprecatedSince20: The `dict` method is deprecated; use `model_dump` instead. Deprecated in Pydantic V2.0 to be removed in V3.0. See Pydantic V2 Migration Guide at https://errors.pydantic.dev/2.5/migration/\n",
      "  response = response.dict()\n",
      "/home/babi/miniconda3/envs/week10/lib/python3.8/site-packages/pydantic/main.py:979: PydanticDeprecatedSince20: The `dict` method is deprecated; use `model_dump` instead. Deprecated in Pydantic V2.0 to be removed in V3.0. See Pydantic V2 Migration Guide at https://errors.pydantic.dev/2.5/migration/\n",
      "  warnings.warn('The `dict` method is deprecated; use `model_dump` instead.', DeprecationWarning)\n",
      "/home/babi/miniconda3/envs/week10/lib/python3.8/site-packages/langchain_openai/chat_models/base.py:468: PydanticDeprecatedSince20: The `dict` method is deprecated; use `model_dump` instead. Deprecated in Pydantic V2.0 to be removed in V3.0. See Pydantic V2 Migration Guide at https://errors.pydantic.dev/2.5/migration/\n",
      "  response = response.dict()\n",
      "/home/babi/miniconda3/envs/week10/lib/python3.8/site-packages/pydantic/main.py:979: PydanticDeprecatedSince20: The `dict` method is deprecated; use `model_dump` instead. Deprecated in Pydantic V2.0 to be removed in V3.0. See Pydantic V2 Migration Guide at https://errors.pydantic.dev/2.5/migration/\n",
      "  warnings.warn('The `dict` method is deprecated; use `model_dump` instead.', DeprecationWarning)\n",
      "/home/babi/miniconda3/envs/week10/lib/python3.8/site-packages/langchain_openai/chat_models/base.py:468: PydanticDeprecatedSince20: The `dict` method is deprecated; use `model_dump` instead. Deprecated in Pydantic V2.0 to be removed in V3.0. See Pydantic V2 Migration Guide at https://errors.pydantic.dev/2.5/migration/\n",
      "  response = response.dict()\n",
      "/home/babi/miniconda3/envs/week10/lib/python3.8/site-packages/pydantic/main.py:979: PydanticDeprecatedSince20: The `dict` method is deprecated; use `model_dump` instead. Deprecated in Pydantic V2.0 to be removed in V3.0. See Pydantic V2 Migration Guide at https://errors.pydantic.dev/2.5/migration/\n",
      "  warnings.warn('The `dict` method is deprecated; use `model_dump` instead.', DeprecationWarning)\n",
      "/home/babi/miniconda3/envs/week10/lib/python3.8/site-packages/langchain_community/embeddings/openai.py:500: PydanticDeprecatedSince20: The `dict` method is deprecated; use `model_dump` instead. Deprecated in Pydantic V2.0 to be removed in V3.0. See Pydantic V2 Migration Guide at https://errors.pydantic.dev/2.5/migration/\n",
      "  response = response.dict()\n",
      "/home/babi/miniconda3/envs/week10/lib/python3.8/site-packages/pydantic/main.py:979: PydanticDeprecatedSince20: The `dict` method is deprecated; use `model_dump` instead. Deprecated in Pydantic V2.0 to be removed in V3.0. See Pydantic V2 Migration Guide at https://errors.pydantic.dev/2.5/migration/\n",
      "  warnings.warn('The `dict` method is deprecated; use `model_dump` instead.', DeprecationWarning)\n",
      "/home/babi/miniconda3/envs/week10/lib/python3.8/site-packages/langchain_openai/chat_models/base.py:468: PydanticDeprecatedSince20: The `dict` method is deprecated; use `model_dump` instead. Deprecated in Pydantic V2.0 to be removed in V3.0. See Pydantic V2 Migration Guide at https://errors.pydantic.dev/2.5/migration/\n",
      "  response = response.dict()\n",
      "/home/babi/miniconda3/envs/week10/lib/python3.8/site-packages/pydantic/main.py:979: PydanticDeprecatedSince20: The `dict` method is deprecated; use `model_dump` instead. Deprecated in Pydantic V2.0 to be removed in V3.0. See Pydantic V2 Migration Guide at https://errors.pydantic.dev/2.5/migration/\n",
      "  warnings.warn('The `dict` method is deprecated; use `model_dump` instead.', DeprecationWarning)\n",
      "/home/babi/miniconda3/envs/week10/lib/python3.8/site-packages/langchain_openai/chat_models/base.py:468: PydanticDeprecatedSince20: The `dict` method is deprecated; use `model_dump` instead. Deprecated in Pydantic V2.0 to be removed in V3.0. See Pydantic V2 Migration Guide at https://errors.pydantic.dev/2.5/migration/\n",
      "  response = response.dict()\n",
      "/home/babi/miniconda3/envs/week10/lib/python3.8/site-packages/pydantic/main.py:979: PydanticDeprecatedSince20: The `dict` method is deprecated; use `model_dump` instead. Deprecated in Pydantic V2.0 to be removed in V3.0. See Pydantic V2 Migration Guide at https://errors.pydantic.dev/2.5/migration/\n",
      "  warnings.warn('The `dict` method is deprecated; use `model_dump` instead.', DeprecationWarning)\n",
      "/home/babi/miniconda3/envs/week10/lib/python3.8/site-packages/langchain_community/embeddings/openai.py:500: PydanticDeprecatedSince20: The `dict` method is deprecated; use `model_dump` instead. Deprecated in Pydantic V2.0 to be removed in V3.0. See Pydantic V2 Migration Guide at https://errors.pydantic.dev/2.5/migration/\n",
      "  response = response.dict()\n",
      "/home/babi/miniconda3/envs/week10/lib/python3.8/site-packages/pydantic/main.py:979: PydanticDeprecatedSince20: The `dict` method is deprecated; use `model_dump` instead. Deprecated in Pydantic V2.0 to be removed in V3.0. See Pydantic V2 Migration Guide at https://errors.pydantic.dev/2.5/migration/\n",
      "  warnings.warn('The `dict` method is deprecated; use `model_dump` instead.', DeprecationWarning)\n",
      "/home/babi/miniconda3/envs/week10/lib/python3.8/site-packages/langchain_openai/chat_models/base.py:468: PydanticDeprecatedSince20: The `dict` method is deprecated; use `model_dump` instead. Deprecated in Pydantic V2.0 to be removed in V3.0. See Pydantic V2 Migration Guide at https://errors.pydantic.dev/2.5/migration/\n",
      "  response = response.dict()\n",
      "/home/babi/miniconda3/envs/week10/lib/python3.8/site-packages/pydantic/main.py:979: PydanticDeprecatedSince20: The `dict` method is deprecated; use `model_dump` instead. Deprecated in Pydantic V2.0 to be removed in V3.0. See Pydantic V2 Migration Guide at https://errors.pydantic.dev/2.5/migration/\n",
      "  warnings.warn('The `dict` method is deprecated; use `model_dump` instead.', DeprecationWarning)\n",
      "/home/babi/miniconda3/envs/week10/lib/python3.8/site-packages/langchain_openai/chat_models/base.py:468: PydanticDeprecatedSince20: The `dict` method is deprecated; use `model_dump` instead. Deprecated in Pydantic V2.0 to be removed in V3.0. See Pydantic V2 Migration Guide at https://errors.pydantic.dev/2.5/migration/\n",
      "  response = response.dict()\n",
      "/home/babi/miniconda3/envs/week10/lib/python3.8/site-packages/pydantic/main.py:979: PydanticDeprecatedSince20: The `dict` method is deprecated; use `model_dump` instead. Deprecated in Pydantic V2.0 to be removed in V3.0. See Pydantic V2 Migration Guide at https://errors.pydantic.dev/2.5/migration/\n",
      "  warnings.warn('The `dict` method is deprecated; use `model_dump` instead.', DeprecationWarning)\n",
      "/home/babi/miniconda3/envs/week10/lib/python3.8/site-packages/langchain_community/embeddings/openai.py:500: PydanticDeprecatedSince20: The `dict` method is deprecated; use `model_dump` instead. Deprecated in Pydantic V2.0 to be removed in V3.0. See Pydantic V2 Migration Guide at https://errors.pydantic.dev/2.5/migration/\n",
      "  response = response.dict()\n",
      "/home/babi/miniconda3/envs/week10/lib/python3.8/site-packages/pydantic/main.py:979: PydanticDeprecatedSince20: The `dict` method is deprecated; use `model_dump` instead. Deprecated in Pydantic V2.0 to be removed in V3.0. See Pydantic V2 Migration Guide at https://errors.pydantic.dev/2.5/migration/\n",
      "  warnings.warn('The `dict` method is deprecated; use `model_dump` instead.', DeprecationWarning)\n",
      "/home/babi/miniconda3/envs/week10/lib/python3.8/site-packages/langchain_openai/chat_models/base.py:468: PydanticDeprecatedSince20: The `dict` method is deprecated; use `model_dump` instead. Deprecated in Pydantic V2.0 to be removed in V3.0. See Pydantic V2 Migration Guide at https://errors.pydantic.dev/2.5/migration/\n",
      "  response = response.dict()\n",
      "/home/babi/miniconda3/envs/week10/lib/python3.8/site-packages/pydantic/main.py:979: PydanticDeprecatedSince20: The `dict` method is deprecated; use `model_dump` instead. Deprecated in Pydantic V2.0 to be removed in V3.0. See Pydantic V2 Migration Guide at https://errors.pydantic.dev/2.5/migration/\n",
      "  warnings.warn('The `dict` method is deprecated; use `model_dump` instead.', DeprecationWarning)\n",
      "/home/babi/miniconda3/envs/week10/lib/python3.8/site-packages/langchain_openai/chat_models/base.py:468: PydanticDeprecatedSince20: The `dict` method is deprecated; use `model_dump` instead. Deprecated in Pydantic V2.0 to be removed in V3.0. See Pydantic V2 Migration Guide at https://errors.pydantic.dev/2.5/migration/\n",
      "  response = response.dict()\n",
      "/home/babi/miniconda3/envs/week10/lib/python3.8/site-packages/pydantic/main.py:979: PydanticDeprecatedSince20: The `dict` method is deprecated; use `model_dump` instead. Deprecated in Pydantic V2.0 to be removed in V3.0. See Pydantic V2 Migration Guide at https://errors.pydantic.dev/2.5/migration/\n",
      "  warnings.warn('The `dict` method is deprecated; use `model_dump` instead.', DeprecationWarning)\n",
      "/home/babi/miniconda3/envs/week10/lib/python3.8/site-packages/langchain_community/embeddings/openai.py:500: PydanticDeprecatedSince20: The `dict` method is deprecated; use `model_dump` instead. Deprecated in Pydantic V2.0 to be removed in V3.0. See Pydantic V2 Migration Guide at https://errors.pydantic.dev/2.5/migration/\n",
      "  response = response.dict()\n",
      "/home/babi/miniconda3/envs/week10/lib/python3.8/site-packages/pydantic/main.py:979: PydanticDeprecatedSince20: The `dict` method is deprecated; use `model_dump` instead. Deprecated in Pydantic V2.0 to be removed in V3.0. See Pydantic V2 Migration Guide at https://errors.pydantic.dev/2.5/migration/\n",
      "  warnings.warn('The `dict` method is deprecated; use `model_dump` instead.', DeprecationWarning)\n",
      "/home/babi/miniconda3/envs/week10/lib/python3.8/site-packages/langchain_openai/chat_models/base.py:468: PydanticDeprecatedSince20: The `dict` method is deprecated; use `model_dump` instead. Deprecated in Pydantic V2.0 to be removed in V3.0. See Pydantic V2 Migration Guide at https://errors.pydantic.dev/2.5/migration/\n",
      "  response = response.dict()\n",
      "/home/babi/miniconda3/envs/week10/lib/python3.8/site-packages/pydantic/main.py:979: PydanticDeprecatedSince20: The `dict` method is deprecated; use `model_dump` instead. Deprecated in Pydantic V2.0 to be removed in V3.0. See Pydantic V2 Migration Guide at https://errors.pydantic.dev/2.5/migration/\n",
      "  warnings.warn('The `dict` method is deprecated; use `model_dump` instead.', DeprecationWarning)\n"
     ]
    }
   ],
   "source": [
    "optimized_questions = []\n",
    "\n",
    "for question in questions:\n",
    "    response = rag_chain.executor.invoke(\"optimize the given question and return only the optimized version of the question:\" + question)\n",
    "    optimized_questions.append(response[\"answer\"])"
   ]
  },
  {
   "cell_type": "code",
   "execution_count": 21,
   "metadata": {},
   "outputs": [
    {
     "data": {
      "text/plain": [
       "['The specific conditions that trigger Seller liability for breaches of representations and warranties in the provided text are as follows:\\n\\n1. **Survival of Representations and Warranties**: The representations and warranties of the parties contained in the Agreement terminate automatically at the Closing. However, covenants and agreements to be performed after the Closing will survive according to their terms.\\n\\n2. **Recourse for Fraud**: Notwithstanding the termination of representations and warranties at Closing, nothing limits or reduces the Buyer’s ability to make claims or recover remedies from any Person with respect to claims arising from fraud committed by such Person.\\n\\n3. **Recourse Limitations**: Other than claims arising from fraud, no director, officer, employee, incorporator, manager, member, partner, stockholder, shareholder, Affiliate, parent, or holder of any equity interest in any tier, agent, attorney, or representative of the Company, Sellers, or Buyer (each, a “Non-Party Affiliate”) shall have any liability for obligations or liabilities arising under, in connection with, or related to the Agreement or for any claim based on the Agreement or the Contemplated Transactions.\\n\\n4. **Third-Party Beneficiaries**: Non-Party Affiliates are expressly intended as third-party beneficiaries of the section on Recourse Limitations, and the provisions of this section shall survive the consummation of the Contemplated Transactions.\\n\\nLimits to Seller liability include:\\n\\n1. **Termination of Representations and Warranties**: Liability for breaches of representations and warranties is limited by their automatic termination at the Closing.\\n\\n2. **Exclusion of Non-Party Affiliates**: Non-Party Affiliates are generally not liable for obligations or liabilities arising under the Agreement, except in cases of fraud.\\n\\n3. **Survival Period**: The survival period for covenants and agreements to be performed after the Closing is determined by their respective terms within the Agreement.\\n\\n4. **Fraud Exception**: The only clear exception to the limitations on liability is for claims arising from fraud.\\n\\n5. **Third-Party Beneficiary Rights**: The rights of Non-Party Affiliates as third-party beneficiaries to the Recourse Limitations section are preserved post-Closing.\\n\\nIt is important to note that the specific limitations and conditions of Seller liability may be further detailed in other sections of the Agreement not provided in the excerpt. Additionally, the Agreement may include indemnification provisions, caps on liability, baskets, or other mechanisms to limit Seller liability, which are not mentioned in the provided text.',\n",
       " \"Based on the provided text, the Sellers' liability for inaccuracies in representations due to their gross negligence discovered after closing would be governed by the specific terms outlined in the agreement. However, the text provided does not include explicit details on the consequences or remedies available in the event of inaccuracies in representations due to gross negligence.\\n\\nGenerally, in such agreements, if inaccuracies in representations and warranties are discovered after closing and are due to gross negligence, the Sellers might be liable for damages or other legal remedies as specified in the agreement. The recourse available to the Buyer would typically be outlined in the indemnification provisions of the agreement.\\n\\nIt is important to note that the text does mention that representations and warranties terminate at closing and that there is no recourse against the other party with respect to such representations and warranties after closing, except in cases of fraud. This could imply that the Sellers may not be liable for inaccuracies due to gross negligence after closing unless it rises to the level of fraud.\\n\\nFor a definitive answer, one would need to review the entire agreement, including any indemnification provisions, limitations of liability, and any specific clauses addressing the survival of representations and warranties post-closing. If you have access to those sections of the agreement, please provide them for a more precise interpretation.\",\n",
       " 'The specific amount set aside in escrow is not provided in the text you\\'ve shared. The text refers to the escrow amount generally as the \"Escrow Amount,\" but the actual figure is not stated. To determine the escrow amount, you would need to refer to the relevant section of the agreement where the Escrow Amount is quantified or to an exhibit or schedule attached to the agreement that lists the actual amount. If you have access to the full agreement or the relevant exhibit, you can look for a section that specifically discusses financial terms or an appendix that includes the financial details of the transaction.',\n",
       " 'Based on the provided text, the \"Retention Amount\" is defined as $5,000,000. However, the \"Escrow Amount\" is mentioned several times without a specific numerical value being provided. To determine if the escrow amount is greater than the retention amount, you would need to refer to the section of the agreement that specifies the actual numerical value of the escrow amount or any related exhibits or annexes that might contain this information. If the escrow amount is not explicitly stated in the provided text, you would need to access the full agreement or additional documentation to find this information.',\n",
       " 'The purpose of the escrow in the agreement is to hold a portion of the purchase price (the Escrow Amount) in a separate account managed by an Escrow Agent to secure the performance of certain obligations of the Company Securityholders after the closing of the transaction. The funds in the escrow account are intended to be used to satisfy any adjustments to the Purchase Price based on final calculations of certain financial figures (such as the Closing Cash Amount, the Closing Debt Amount, or the Seller Transaction Expenses) and to cover any potential indemnification claims or breaches of representations and warranties made by the sellers.\\n\\nThe escrow serves as a financial guarantee that the sellers will comply with their post-closing obligations and that any claims or discrepancies that arise after the closing can be resolved using the funds held in escrow. Once the relevant obligations are fulfilled or the time period for potential claims has expired, the remaining escrow funds, if any, are released to the sellers in accordance with the terms of the Escrow Agreement and the purchase agreement.',\n",
       " \"Based on the provided text, the Escrow Amount is primarily intended to satisfy obligations of the Company Securityholders as provided in Section 2.07(f), which relates to the adjustment of the Purchase Price post-Closing. However, the text does not explicitly state whether the Escrow Amount can be used as recourse for breaches of the Company's representations and warranties.\\n\\nTypically, in merger and acquisition agreements, an escrow account may be established to secure indemnification obligations for breaches of representations, warranties, and covenants. To determine whether the Buyer can use the Escrow Amount for recourse against breaches of the Company's representations, you would need to review the specific indemnification provisions and any limitations on recourse outlined in the agreement, particularly in the sections referenced (such as Section 2.07 and the Escrow Agreement).\\n\\nIf the agreement includes indemnification provisions that allow for recourse against the Escrow Amount for breaches of representations and warranties, then the Buyer may have the right to make claims against the Escrow Amount for such breaches. However, without the specific language from those sections, it is not possible to provide a definitive answer.\\n\\nFor a precise interpretation, you should refer to the relevant sections of the agreement that detail the use of the Escrow Amount and any indemnification or recourse provisions related to breaches of representations and warranties.\",\n",
       " \"The conditions for closing the transaction, as outlined in the provided text, include a series of deliveries and actions that both the Buyer and the Sellers' Representative must complete. Here is a summary of the key conditions for both parties:\\n\\n**Buyer Closing Deliveries:**\\n\\n1. **Payment of Closing Cash Amounts:** The Buyer must pay the specified amounts by wire transfer to accounts detailed on the Allocation Statement.\\n2. **Execution of Employment and Ancillary Agreements:** The Buyer or Parent must provide executed copies of Employment Agreements and any other Ancillary Agreements to the Sellers’ Representative.\\n3. **Escrow Amount:** The Buyer must wire the Escrow Amount to the Escrow Agent.\\n4. **Repayment of Company Debts:** The Buyer must repay or cause to be repaid the amounts specified in the payoff letters on behalf of the Company.\\n5. **Payment of Seller Transaction Expenses:** The Buyer must pay or cause to be paid any unpaid Seller Transaction Expenses on behalf of the Company.\\n6. **Delivery of Executed Escrow Agreement:** The Buyer must provide a copy of the executed Escrow Agreement to the Sellers’ Representative.\\n\\n**Sellers' Closing Deliveries:**\\n\\n1. **Share Certificates:** The Sellers must provide certificates representing all Shares, duly endorsed or accompanied by transfer powers, or an affidavit in lieu of such certificates.\\n2. **Execution of Employment and Ancillary Agreements:** The Sellers must provide executed copies of Employment Agreements and any other Ancillary Agreements.\\n3. **Resignations:** The Sellers must provide written resignations of the officers and directors of each Acquired Company as requested by the Buyer.\\n4. **Payoff and Lien Release Letters:** The Sellers must provide payoff and lien release letters for any indebtedness included in the Closing Debt Amount.\\n5. **Cancellation Acknowledgements:** The Sellers must provide acknowledgements evidencing the cancellation of Vested Options or Warrants.\\n6. **Electronic Documentation:** The Sellers must provide electronic copies of all documentation contained in the data room.\\n7. **Tax Certificates:** The Sellers must provide a certificate satisfying the requirements of Treasury Regulations regarding the sale of U.S. real property interests and proof of mailing of a certificate to the IRS.\\n8. **Delivery of Executed Escrow Agreement:** The Sellers’ Representative must provide a copy of the executed Escrow Agreement.\\n\\n**Additional Conditions:**\\n\\n- **Treatment of Options and Warrants:** Specific procedures for the treatment of Options and Warrants must be followed.\\n- **No Breach of Representations and Warranties:** The parties must not have breached or violated any representation, warranty, or covenant contained in the agreement.\\n- **Timeliness:** Time is of the essence, and all dates and time periods must be strictly adhered to.\\n- **Closing Payments:** The Buyer must make the Closing Payments through the Paying Agent, which includes various considerations for Sellers, Warrantholders, Vested Optionholders, and Employee Closing Bonus Beneficiaries.\\n- **Escrow Account:** The Buyer must deposit the Escrow Amount with the Escrow Agent, and the Escrow Account will be governed by the terms of the Escrow Agreement.\\n- **Tax Withholding:** The Buyer has the right to withhold taxes from payments if required by law, unless a valid withholding certificate is provided by the Payee.\\n\\nThese conditions must be met to proceed with the closing of the transaction.\",\n",
       " 'Based on the provided text, a \"Change of Control Payment\" is defined as a payment that is created, accelerated, accrues, or becomes payable by any Acquired Company to any present or former director, stockholder, employee, consultant, or other individual service provider thereof due to the execution and delivery of the agreement or the consummation of the Contemplated Transactions. This includes the employer portion of any Taxes payable on or triggered by such payment.\\n\\nOn the other hand, \"Seller Transaction Expenses\" are defined as any other payment, expense, or fee that accrues or becomes payable by any Acquired Company to any Governmental Authority or other Person under any applicable Legal Requirement or Contractual Obligation, including in connection with the making of any filings, the giving of any notices, or the obtaining of any consents, authorizations, or approvals, as a result of the execution and delivery of the agreement or the consummation of the Contemplated Transactions.\\n\\nGiven these definitions, a Change of Control Payment is not classified as a Seller Transaction Expense. They are distinct categories of payments that may arise from the execution and delivery of the agreement or the consummation of the Contemplated Transactions. Seller Transaction Expenses seem to be more related to the administrative and regulatory costs associated with the transaction, while Change of Control Payments are more related to compensation or benefits triggered for individuals due to the change in control of the company.',\n",
       " 'Yes, if the actual Closing Debt Amount exceeds the estimated Closing Debt Amount, the total payment from the Buyer to the Sellers would typically be adjusted downward. According to the terms outlined in the provided text, the Purchase Price is recalculated after the Closing using the final figures of the Closing Cash Amount, the Closing Debt Amount, and the Seller Transaction Expenses as set forth in the Final Closing Statement. If the actual Closing Debt Amount is higher than initially estimated, the recalculated Purchase Price would be reduced accordingly, resulting in a lower payment to the Sellers.',\n",
       " 'Based on the provided text, the Buyer is responsible for depositing the Employee Closing Bonus Amount with the Company at Closing. It is then the Company\\'s obligation to pay the respective shares of the Employee Closing Bonus Amount to the Employee Closing Bonus Beneficiaries through its payroll system. Here is the relevant excerpt:\\n\\n\"At the Closing the Buyer shall deposit the Employee Closing Bonus Amount with the [Company] and shall cause the Company to pay through its payroll system to each Employees Closing Bonus Beneficiary its respective share the Employee Closing Bonus Amount in accordance with the allocation set forth in Exhibit 2.10.\"\\n\\nTherefore, while the Buyer ensures the funds are provided to the Company, the actual distribution to the employees is handled by the Company itself.',\n",
       " 'Yes, there is a representation from the Sellers regarding Tax matters of the Company. The relevant section in the provided text is titled \"Tax Matters,\" where it states that each Acquired Company has timely filed all required Tax Returns in accordance with all Legal Requirements, and all such Tax Returns are true, correct, and complete in all material respects. It also mentions that all Taxes owed by each Acquired Company have been timely paid in full, and there are no claims made by a Governmental Authority in a jurisdiction where an Acquired Company does not file Tax Returns that it is or may be subject to taxation by that jurisdiction. Additionally, it is stated that there are no Encumbrances with respect to Taxes upon any Asset other than Permitted Encumbrances, and each Acquired Company has complied with all requirements to deduct, withhold, and timely pay to the appropriate Governmental Authority all Taxes required to be deducted, withheld, or paid in connection with amounts paid or owing to any employee, independent contractor, creditor, stockholder, or other third party. The section further details compliance with reporting and recordkeeping requirements, the absence of pending or threatened claims or Actions concerning any Tax Liability of any Acquired Company, and the provision of accurate and complete copies of all Tax Returns, examination reports, and statements of deficiencies filed, assessed against, or agreed to by an Acquired Company since a specified date.',\n",
       " 'Based on the provided text, the Sellers are subject to a non-solicitation agreement as outlined in Section 6.08, which restricts them from soliciting employees, consultants, customers, vendors, suppliers, or other business partners of the Acquired Companies for a period of 12 months following the Closing Date. However, there is no explicit mention of a non-competition agreement in the provided text. Non-competition agreements typically restrict the Sellers from engaging in competing businesses for a specified period within a certain geographical area. Since this is not mentioned, it appears that the Sellers are not subject to a non-competition agreement as per the information provided.',\n",
       " 'Based on the provided text, the Buyer may assign the Agreement and any or all of its rights and interests hereunder to one or more of its Affiliates or designate one or more of its Affiliates to perform its obligations hereunder, so long as the Buyer is not relieved of any liability or obligations hereunder. Additionally, the Buyer may assign the Agreement and any or all of its rights and interest hereunder to any purchaser of all or substantially all its assets or designate such purchaser to perform its obligations hereunder.\\n\\nHowever, no party may assign, delegate, or otherwise transfer either this Agreement or any of its rights, interests, or obligations hereunder without the prior written approval of the other parties (with the Sellers’ Representative acting for all of the Sellers), and any attempt to do so will be null and void ab initio.\\n\\nTherefore, the necessary consent for the Buyer to assign the Agreement would be the prior written approval of the other parties, with the Sellers’ Representative acting on behalf of all the Sellers.',\n",
       " \"Based on the provided text, the Buyer may not assign the Agreement or any of its rights, interests, or obligations without the prior written approval of the other parties, which includes the Sellers. The only exceptions to this are:\\n\\n(a) The Buyer may assign the Agreement and any of its rights and interests to one or more of its Affiliates or designate one or more of its Affiliates to perform its obligations, as long as the Buyer is not relieved of any liability or obligations under the Agreement.\\n\\n(b) The Buyer may assign the Agreement and any of its rights and interests to any purchaser of all or substantially all of its assets or designate such purchaser to perform its obligations under the Agreement.\\n\\nTherefore, if the third party to whom the Buyer wishes to assign the Agreement is not an Affiliate of the Buyer or a purchaser of all or substantially all of the Buyer's assets, the Sellers' consent would be required for such an assignment.\"]"
      ]
     },
     "execution_count": 21,
     "metadata": {},
     "output_type": "execute_result"
    }
   ],
   "source": [
    "optimized_questions"
   ]
  },
  {
   "cell_type": "code",
   "execution_count": 23,
   "metadata": {},
   "outputs": [],
   "source": [
    "from databases import VectorStoreFactory, VectorStore\n",
    "from advanced_retriver import get_advanced_retriver\n",
    "from langchain_community.embeddings import  OpenAIEmbeddings\n"
   ]
  },
  {
   "cell_type": "code",
   "execution_count": 25,
   "metadata": {},
   "outputs": [
    {
     "name": "stderr",
     "output_type": "stream",
     "text": [
      "2024-02-26 12:51:12,408:logger:ChromaDB vectorstore created successfully.\n"
     ]
    }
   ],
   "source": [
    "vector_store = VectorStoreFactory().create_vectorstore(chunks=[], vector_store=VectorStore.CHROMA, embedding=OpenAIEmbeddings())"
   ]
  },
  {
   "cell_type": "code",
   "execution_count": 26,
   "metadata": {},
   "outputs": [
    {
     "ename": "ValidationError",
     "evalue": "1 validation error for BM25Retriever\ndocs\n  field required (type=value_error.missing)",
     "output_type": "error",
     "traceback": [
      "\u001b[0;31m---------------------------------------------------------------------------\u001b[0m",
      "\u001b[0;31mValidationError\u001b[0m                           Traceback (most recent call last)",
      "Cell \u001b[0;32mIn[26], line 1\u001b[0m\n\u001b[0;32m----> 1\u001b[0m retriver \u001b[38;5;241m=\u001b[39m \u001b[43mget_advanced_retriver\u001b[49m\u001b[43m(\u001b[49m\u001b[43mvector_store\u001b[49m\u001b[43m)\u001b[49m\n",
      "File \u001b[0;32m~/Desktop/10academy/week11/Optimized-Contract-QA-RAG-System-Enhancements/scripts/advanced_retriver.py:84\u001b[0m, in \u001b[0;36mget_advanced_retriver\u001b[0;34m(vectorstore)\u001b[0m\n\u001b[1;32m     77\u001b[0m load_dotenv(find_dotenv())\n\u001b[1;32m     79\u001b[0m embeddings \u001b[38;5;241m=\u001b[39m OpenAIEmbeddings(\n\u001b[1;32m     80\u001b[0m model\u001b[38;5;241m=\u001b[39m\u001b[38;5;124m\"\u001b[39m\u001b[38;5;124mtext-embedding-ada-002\u001b[39m\u001b[38;5;124m\"\u001b[39m\n\u001b[1;32m     81\u001b[0m )\n\u001b[0;32m---> 84\u001b[0m bm25_retriever \u001b[38;5;241m=\u001b[39m \u001b[43mBM25Retriever\u001b[49m\u001b[43m(\u001b[49m\u001b[43m)\u001b[49m\n\u001b[1;32m     85\u001b[0m bm25_retriever\u001b[38;5;241m.\u001b[39mk\u001b[38;5;241m=\u001b[39m\u001b[38;5;241m10\u001b[39m\n\u001b[1;32m     87\u001b[0m \u001b[38;5;66;03m#\u001b[39;00m\n",
      "File \u001b[0;32m~/miniconda3/envs/week10/lib/python3.8/site-packages/langchain_core/load/serializable.py:120\u001b[0m, in \u001b[0;36mSerializable.__init__\u001b[0;34m(self, **kwargs)\u001b[0m\n\u001b[1;32m    119\u001b[0m \u001b[38;5;28;01mdef\u001b[39;00m \u001b[38;5;21m__init__\u001b[39m(\u001b[38;5;28mself\u001b[39m, \u001b[38;5;241m*\u001b[39m\u001b[38;5;241m*\u001b[39mkwargs: Any) \u001b[38;5;241m-\u001b[39m\u001b[38;5;241m>\u001b[39m \u001b[38;5;28;01mNone\u001b[39;00m:\n\u001b[0;32m--> 120\u001b[0m     \u001b[38;5;28;43msuper\u001b[39;49m\u001b[43m(\u001b[49m\u001b[43m)\u001b[49m\u001b[38;5;241;43m.\u001b[39;49m\u001b[38;5;21;43m__init__\u001b[39;49m\u001b[43m(\u001b[49m\u001b[38;5;241;43m*\u001b[39;49m\u001b[38;5;241;43m*\u001b[39;49m\u001b[43mkwargs\u001b[49m\u001b[43m)\u001b[49m\n\u001b[1;32m    121\u001b[0m     \u001b[38;5;28mself\u001b[39m\u001b[38;5;241m.\u001b[39m_lc_kwargs \u001b[38;5;241m=\u001b[39m kwargs\n",
      "File \u001b[0;32m~/miniconda3/envs/week10/lib/python3.8/site-packages/pydantic/v1/main.py:341\u001b[0m, in \u001b[0;36mBaseModel.__init__\u001b[0;34m(__pydantic_self__, **data)\u001b[0m\n\u001b[1;32m    339\u001b[0m values, fields_set, validation_error \u001b[38;5;241m=\u001b[39m validate_model(__pydantic_self__\u001b[38;5;241m.\u001b[39m\u001b[38;5;18m__class__\u001b[39m, data)\n\u001b[1;32m    340\u001b[0m \u001b[38;5;28;01mif\u001b[39;00m validation_error:\n\u001b[0;32m--> 341\u001b[0m     \u001b[38;5;28;01mraise\u001b[39;00m validation_error\n\u001b[1;32m    342\u001b[0m \u001b[38;5;28;01mtry\u001b[39;00m:\n\u001b[1;32m    343\u001b[0m     object_setattr(__pydantic_self__, \u001b[38;5;124m'\u001b[39m\u001b[38;5;124m__dict__\u001b[39m\u001b[38;5;124m'\u001b[39m, values)\n",
      "\u001b[0;31mValidationError\u001b[0m: 1 validation error for BM25Retriever\ndocs\n  field required (type=value_error.missing)"
     ]
    }
   ],
   "source": [
    "retriver = get_advanced_retriver(vector_store)"
   ]
  },
  {
   "cell_type": "code",
   "execution_count": 27,
   "metadata": {},
   "outputs": [],
   "source": [
    "from langchain.retrievers import BM25Retriever, EnsembleRetriever\n"
   ]
  },
  {
   "cell_type": "code",
   "execution_count": 30,
   "metadata": {},
   "outputs": [
    {
     "ename": "ValueError",
     "evalue": "not enough values to unpack (expected 2, got 0)",
     "output_type": "error",
     "traceback": [
      "\u001b[0;31m---------------------------------------------------------------------------\u001b[0m",
      "\u001b[0;31mValueError\u001b[0m                                Traceback (most recent call last)",
      "Cell \u001b[0;32mIn[30], line 1\u001b[0m\n\u001b[0;32m----> 1\u001b[0m bm25_retriever \u001b[38;5;241m=\u001b[39m \u001b[43mBM25Retriever\u001b[49m\u001b[38;5;241;43m.\u001b[39;49m\u001b[43mfrom_documents\u001b[49m\u001b[43m(\u001b[49m\u001b[43m[\u001b[49m\u001b[43m]\u001b[49m\u001b[43m)\u001b[49m\n",
      "File \u001b[0;32m~/miniconda3/envs/week10/lib/python3.8/site-packages/langchain_community/retrievers/bm25.py:90\u001b[0m, in \u001b[0;36mBM25Retriever.from_documents\u001b[0;34m(cls, documents, bm25_params, preprocess_func, **kwargs)\u001b[0m\n\u001b[1;32m     70\u001b[0m \u001b[38;5;129m@classmethod\u001b[39m\n\u001b[1;32m     71\u001b[0m \u001b[38;5;28;01mdef\u001b[39;00m \u001b[38;5;21mfrom_documents\u001b[39m(\n\u001b[1;32m     72\u001b[0m     \u001b[38;5;28mcls\u001b[39m,\n\u001b[0;32m   (...)\u001b[0m\n\u001b[1;32m     77\u001b[0m     \u001b[38;5;241m*\u001b[39m\u001b[38;5;241m*\u001b[39mkwargs: Any,\n\u001b[1;32m     78\u001b[0m ) \u001b[38;5;241m-\u001b[39m\u001b[38;5;241m>\u001b[39m BM25Retriever:\n\u001b[1;32m     79\u001b[0m \u001b[38;5;250m    \u001b[39m\u001b[38;5;124;03m\"\"\"\u001b[39;00m\n\u001b[1;32m     80\u001b[0m \u001b[38;5;124;03m    Create a BM25Retriever from a list of Documents.\u001b[39;00m\n\u001b[1;32m     81\u001b[0m \u001b[38;5;124;03m    Args:\u001b[39;00m\n\u001b[0;32m   (...)\u001b[0m\n\u001b[1;32m     88\u001b[0m \u001b[38;5;124;03m        A BM25Retriever instance.\u001b[39;00m\n\u001b[1;32m     89\u001b[0m \u001b[38;5;124;03m    \"\"\"\u001b[39;00m\n\u001b[0;32m---> 90\u001b[0m     texts, metadatas \u001b[38;5;241m=\u001b[39m \u001b[38;5;28mzip\u001b[39m(\u001b[38;5;241m*\u001b[39m((d\u001b[38;5;241m.\u001b[39mpage_content, d\u001b[38;5;241m.\u001b[39mmetadata) \u001b[38;5;28;01mfor\u001b[39;00m d \u001b[38;5;129;01min\u001b[39;00m documents))\n\u001b[1;32m     91\u001b[0m     \u001b[38;5;28;01mreturn\u001b[39;00m \u001b[38;5;28mcls\u001b[39m\u001b[38;5;241m.\u001b[39mfrom_texts(\n\u001b[1;32m     92\u001b[0m         texts\u001b[38;5;241m=\u001b[39mtexts,\n\u001b[1;32m     93\u001b[0m         bm25_params\u001b[38;5;241m=\u001b[39mbm25_params,\n\u001b[0;32m   (...)\u001b[0m\n\u001b[1;32m     96\u001b[0m         \u001b[38;5;241m*\u001b[39m\u001b[38;5;241m*\u001b[39mkwargs,\n\u001b[1;32m     97\u001b[0m     )\n",
      "\u001b[0;31mValueError\u001b[0m: not enough values to unpack (expected 2, got 0)"
     ]
    }
   ],
   "source": [
    "bm25_retriever = BM25Retriever.from_documents([])"
   ]
  }
 ],
 "metadata": {
  "kernelspec": {
   "display_name": "week10",
   "language": "python",
   "name": "python3"
  },
  "language_info": {
   "codemirror_mode": {
    "name": "ipython",
    "version": 3
   },
   "file_extension": ".py",
   "mimetype": "text/x-python",
   "name": "python",
   "nbconvert_exporter": "python",
   "pygments_lexer": "ipython3",
   "version": "3.8.2"
  }
 },
 "nbformat": 4,
 "nbformat_minor": 2
}
